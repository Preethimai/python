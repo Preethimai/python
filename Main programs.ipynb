{
 "cells": [
  {
   "cell_type": "markdown",
   "id": "635c4838",
   "metadata": {},
   "source": [
    "# How to detect a Positive and Negative number?"
   ]
  },
  {
   "cell_type": "code",
   "execution_count": null,
   "id": "eca2c9a3",
   "metadata": {},
   "outputs": [],
   "source": [
    "# You can use int , float kind of datatypes \n",
    "# To get input from a user \n",
    "\n",
    "num = float(input(\"Enter any Number : \"))\n",
    "\n",
    "# To check the condition satisfies for Positive no\n",
    "\n",
    "if(num > 0):\n",
    "    print(\"The number is Positive number!\")\n",
    "\n",
    "# To check the condition satisfies for Negative no\n",
    "\n",
    "elif(num < 0):\n",
    "    print(\"The number is Negative number!\")\n",
    "\n",
    "# To check the condition is satisfies zero  \n",
    "\n",
    "else: \n",
    "    print(\"The number is Zero!\")"
   ]
  },
  {
   "cell_type": "markdown",
   "id": "4d99bee5",
   "metadata": {},
   "source": [
    "# How to Check for Even and Odd Numbers "
   ]
  },
  {
   "cell_type": "code",
   "execution_count": 2,
   "id": "9e9c50bc",
   "metadata": {},
   "outputs": [
    {
     "name": "stdout",
     "output_type": "stream",
     "text": [
      "Enter any Number : 5\n",
      "5 is Odd number\n"
     ]
    }
   ],
   "source": [
    "# To get the input from the user \n",
    "\n",
    "num = int(input('Enter any Number : '))\n",
    "\n",
    "# Check the condition satisfies for Even no\n",
    "\n",
    "if(num % 2 ==  0):\n",
    "    print(\"{} is Even Number\".format(num))\n",
    "\n",
    "#Check the conition satisfies for Odd No\n",
    "    \n",
    "else: \n",
    "    print(\"{} is Odd number\".format(num))\n"
   ]
  },
  {
   "cell_type": "markdown",
   "id": "e7f32371",
   "metadata": {},
   "source": [
    "# How to Check for Greatest of 3 Numbers "
   ]
  },
  {
   "cell_type": "code",
   "execution_count": 3,
   "id": "f56a7e5c",
   "metadata": {},
   "outputs": [
    {
     "name": "stdout",
     "output_type": "stream",
     "text": [
      "Enter the First Number : 50\n",
      "Enter the Second Number : 10\n",
      "Enter the Third Number : 30\n",
      "50 is Greatest of all!\n"
     ]
    }
   ],
   "source": [
    "# To get the input from the user \n",
    "\n",
    "num1 = int(input(\"Enter the First Number : \"))\n",
    "num2 = int(input(\"Enter the Second Number : \"))\n",
    "num3 = int(input(\"Enter the Third Number : \"))\n",
    "\n",
    "# Check the condition satisfies for Num1 is Greater\n",
    "\n",
    "if(num1 > num2 and num1 > num3):\n",
    "    print(\"{} is Greatest of all!\".format(num1))\n",
    "\n",
    "# Check the condition satisfies for Num2 is Greater\n",
    "\n",
    "elif(num2 > num1 and num2 > num3):\n",
    "    print(\"{} is Greatest of all!\".format(num2))\n",
    "\n",
    "# Check the condition satisfies for Num3 is Greater\n",
    "\n",
    "else:\n",
    "    print(\"{} is Greatest of all!\".format(num3))"
   ]
  },
  {
   "cell_type": "markdown",
   "id": "b90ed155",
   "metadata": {},
   "source": [
    "# Another Logic for Greatest Number"
   ]
  },
  {
   "cell_type": "code",
   "execution_count": 5,
   "id": "e6c94373",
   "metadata": {},
   "outputs": [
    {
     "name": "stdout",
     "output_type": "stream",
     "text": [
      "Enter the First Number : 10\n",
      "Enter the Second Number : 120\n",
      "Enter the Third Number : 11\n",
      "The maximum number is : 120\n"
     ]
    }
   ],
   "source": [
    "# To get the input from the user \n",
    "\n",
    "num1 = int(input(\"Enter the First Number : \"))\n",
    "num2 = int(input(\"Enter the Second Number : \"))\n",
    "num3 = int(input(\"Enter the Third Number : \"))\n",
    "\n",
    "print(\"The maximum number is : \",end=\"\")\n",
    "\n",
    "if(num2 <= num1 >= num3):\n",
    "    print(num1)\n",
    "\n",
    "elif(num1 <= num2 >= num3):\n",
    "    print(num2)\n",
    "\n",
    "else:\n",
    "    print(num3)"
   ]
  },
  {
   "cell_type": "markdown",
   "id": "e896cdfb",
   "metadata": {},
   "source": [
    "# How to Check for divisibility of a Number?"
   ]
  },
  {
   "cell_type": "code",
   "execution_count": 8,
   "id": "df13af12",
   "metadata": {},
   "outputs": [
    {
     "name": "stdout",
     "output_type": "stream",
     "text": [
      "Enter the Numerator : 20\n",
      "Enter the Denominator : 3\n",
      "20 is not divisible by 3\n"
     ]
    }
   ],
   "source": [
    "# To get the input from the user\n",
    "\n",
    "num1 = int(input(\"Enter the Numerator : \"))\n",
    "num2 = int(input(\"Enter the Denominator : \"))\n",
    "\n",
    "# numerator is divisible by the denominator\n",
    "\n",
    "if(num1 % num2 == 0):\n",
    "    print(num1, \"is divisible by\", num2)\n",
    "\n",
    "# numerator is not divisible by the denominator\n",
    "\n",
    "else:\n",
    "    print(num1, \"is not divisible by\", num2)"
   ]
  },
  {
   "cell_type": "markdown",
   "id": "5e52e7dc",
   "metadata": {},
   "source": [
    "# How to convert from celcius to Farenheit?"
   ]
  },
  {
   "cell_type": "code",
   "execution_count": 11,
   "id": "dc9495c0",
   "metadata": {},
   "outputs": [
    {
     "name": "stdout",
     "output_type": "stream",
     "text": [
      "Enter a value in celcius : 36\n",
      "97F\n"
     ]
    }
   ],
   "source": [
    "# To get the celcius value from the user \n",
    "\n",
    "celcius = int(input(\"Enter a value in celcius : \"))\n",
    "\n",
    "# Formula for converting celcius to farenheit \n",
    "# celcius * (9/5) + 32\n",
    "\n",
    "farenheit = round(celcius * (9/5) + 32)\n",
    "\n",
    "# Printing the converted Farenheit value \n",
    "\n",
    "print(str(farenheit) + \"F\")\n"
   ]
  },
  {
   "cell_type": "markdown",
   "id": "cf1a2a20",
   "metadata": {},
   "source": [
    "# How to convert from Farenheit to Celcius"
   ]
  },
  {
   "cell_type": "code",
   "execution_count": 17,
   "id": "2834beb8",
   "metadata": {},
   "outputs": [
    {
     "name": "stdout",
     "output_type": "stream",
     "text": [
      "Enter the value in Farenheit : 97\n",
      "36C\n"
     ]
    }
   ],
   "source": [
    "# To get the farenheit value from the user \n",
    "\n",
    "farenheit = int(input(\"Enter the value in Farenheit : \"))\n",
    "\n",
    "# Formula for converting farenheit to celcius\n",
    "# farenheit - 32 * (5/9)\n",
    "\n",
    "celcius = round((farenheit - 32) * (5/9))\n",
    "# printing the converted celcius value\n",
    "\n",
    "print(str(celcius) + \"C\")\n"
   ]
  },
  {
   "cell_type": "markdown",
   "id": "8c5c8b69",
   "metadata": {},
   "source": [
    "# How to Create a Calendar? "
   ]
  },
  {
   "cell_type": "code",
   "execution_count": 11,
   "id": "4cb15dea",
   "metadata": {},
   "outputs": [
    {
     "name": "stdout",
     "output_type": "stream",
     "text": [
      "True\n",
      "False\n"
     ]
    }
   ],
   "source": [
    "# Importing the calendar\n",
    "\n",
    "import calendar\n",
    "\n",
    "print(calendar.isleap(2020))\n",
    "\n",
    "print(calendar.isleap(2002))"
   ]
  },
  {
   "cell_type": "code",
   "execution_count": 12,
   "id": "111af6e5",
   "metadata": {},
   "outputs": [
    {
     "name": "stdout",
     "output_type": "stream",
     "text": [
      "     April 2023\n",
      "Mo Tu We Th Fr Sa Su\n",
      "                1  2\n",
      " 3  4  5  6  7  8  9\n",
      "10 11 12 13 14 15 16\n",
      "17 18 19 20 21 22 23\n",
      "24 25 26 27 28 29 30\n",
      "\n"
     ]
    }
   ],
   "source": [
    "# print the particular month in year \n",
    "\n",
    "print(calendar.month(2023,4))"
   ]
  },
  {
   "cell_type": "code",
   "execution_count": 13,
   "id": "9dee10ae",
   "metadata": {},
   "outputs": [
    {
     "name": "stdout",
     "output_type": "stream",
     "text": [
      "                                  2023\n",
      "\n",
      "      January                   February                   March\n",
      "Mo Tu We Th Fr Sa Su      Mo Tu We Th Fr Sa Su      Mo Tu We Th Fr Sa Su\n",
      "                   1             1  2  3  4  5             1  2  3  4  5\n",
      " 2  3  4  5  6  7  8       6  7  8  9 10 11 12       6  7  8  9 10 11 12\n",
      " 9 10 11 12 13 14 15      13 14 15 16 17 18 19      13 14 15 16 17 18 19\n",
      "16 17 18 19 20 21 22      20 21 22 23 24 25 26      20 21 22 23 24 25 26\n",
      "23 24 25 26 27 28 29      27 28                     27 28 29 30 31\n",
      "30 31\n",
      "\n",
      "       April                      May                       June\n",
      "Mo Tu We Th Fr Sa Su      Mo Tu We Th Fr Sa Su      Mo Tu We Th Fr Sa Su\n",
      "                1  2       1  2  3  4  5  6  7                1  2  3  4\n",
      " 3  4  5  6  7  8  9       8  9 10 11 12 13 14       5  6  7  8  9 10 11\n",
      "10 11 12 13 14 15 16      15 16 17 18 19 20 21      12 13 14 15 16 17 18\n",
      "17 18 19 20 21 22 23      22 23 24 25 26 27 28      19 20 21 22 23 24 25\n",
      "24 25 26 27 28 29 30      29 30 31                  26 27 28 29 30\n",
      "\n",
      "        July                     August                  September\n",
      "Mo Tu We Th Fr Sa Su      Mo Tu We Th Fr Sa Su      Mo Tu We Th Fr Sa Su\n",
      "                1  2          1  2  3  4  5  6                   1  2  3\n",
      " 3  4  5  6  7  8  9       7  8  9 10 11 12 13       4  5  6  7  8  9 10\n",
      "10 11 12 13 14 15 16      14 15 16 17 18 19 20      11 12 13 14 15 16 17\n",
      "17 18 19 20 21 22 23      21 22 23 24 25 26 27      18 19 20 21 22 23 24\n",
      "24 25 26 27 28 29 30      28 29 30 31               25 26 27 28 29 30\n",
      "31\n",
      "\n",
      "      October                   November                  December\n",
      "Mo Tu We Th Fr Sa Su      Mo Tu We Th Fr Sa Su      Mo Tu We Th Fr Sa Su\n",
      "                   1             1  2  3  4  5                   1  2  3\n",
      " 2  3  4  5  6  7  8       6  7  8  9 10 11 12       4  5  6  7  8  9 10\n",
      " 9 10 11 12 13 14 15      13 14 15 16 17 18 19      11 12 13 14 15 16 17\n",
      "16 17 18 19 20 21 22      20 21 22 23 24 25 26      18 19 20 21 22 23 24\n",
      "23 24 25 26 27 28 29      27 28 29 30               25 26 27 28 29 30 31\n",
      "30 31\n",
      "\n"
     ]
    }
   ],
   "source": [
    "# print the entire year of the calendar \n",
    "\n",
    "print(calendar.calendar(2023))"
   ]
  },
  {
   "cell_type": "markdown",
   "id": "e38404fa",
   "metadata": {},
   "source": [
    "# How to Calculate the Mass , Density and Volume? "
   ]
  },
  {
   "cell_type": "code",
   "execution_count": 17,
   "id": "96f8ddd7",
   "metadata": {},
   "outputs": [
    {
     "name": "stdout",
     "output_type": "stream",
     "text": [
      "Choose one to calculate(m, d, v) : m\n",
      "Enter the Density value : 6\n",
      "Enter the volume value : 18\n",
      "108.00\n"
     ]
    }
   ],
   "source": [
    "mdv = input(\"Choose one to calculate(m, d, v) : \")\n",
    "\n",
    "# To find the mass value \n",
    "    \n",
    "if(mdv == 'm'):\n",
    "    d = float(input(\"Enter the Density value : \"))\n",
    "    v = float(input(\"Enter the volume value : \"))\n",
    "    result = d * v \n",
    "    \n",
    "# To find the Density value \n",
    "\n",
    "elif(mdv == 'd'):\n",
    "    m = float(input(\"Enter the Mass value : \"))\n",
    "    v = float(input(\"Enter the volume value : \"))\n",
    "    result = m / v \n",
    "    \n",
    "# To find the Volume value \n",
    "\n",
    "elif(mdv == 'v'):\n",
    "    m = float(input(\"Enter the Mass value : \"))\n",
    "    d = float(input(\"Enter the Density value : \"))\n",
    "    result = m / d\n",
    "    \n",
    "print(\"%.2f\" % result)"
   ]
  },
  {
   "cell_type": "markdown",
   "id": "1c8ba607",
   "metadata": {},
   "source": [
    "# How to determine the Quadrant of a point?"
   ]
  },
  {
   "cell_type": "code",
   "execution_count": 31,
   "id": "7d7ac562",
   "metadata": {},
   "outputs": [
    {
     "name": "stdout",
     "output_type": "stream",
     "text": [
      "Enter the coordinate point of x : 10\n",
      "Enter the coordinate point of y : 15\n",
      "The first Quadrant\n"
     ]
    }
   ],
   "source": [
    "x = float(input(\"Enter the coordinate point of x : \"))\n",
    "y = float(input(\"Enter the coordinate point of y : \"))\n",
    "\n",
    "if(x > 0 and y > 0):\n",
    "    print(\"The first Quadrant\")\n",
    "\n",
    "elif(x > 0 and y < 0):\n",
    "    print(\"The second Quadrant\")\n",
    "    \n",
    "elif(x < 0 and y < 0):\n",
    "    print(\"The Third Quadrant\")\n",
    "\n",
    "elif(x < 0 and y > 0):\n",
    "    print(\"The Forth Quadrant\")\n",
    "\n",
    "elif(x == 0 and y == 0):\n",
    "    print(\"Point of Origin\")\n",
    "\n",
    "elif(x == 0):\n",
    "    print(\"x point\")\n",
    "\n",
    "elif(y == 0):\n",
    "    print(\"y point\")\n",
    "    \n",
    "else:\n",
    "    print(\"Please enter all points!\")"
   ]
  },
  {
   "cell_type": "markdown",
   "id": "d0d85c81",
   "metadata": {},
   "source": [
    "# How to determine If a Triangle exist?"
   ]
  },
  {
   "cell_type": "code",
   "execution_count": 41,
   "id": "5c63ad4d",
   "metadata": {},
   "outputs": [
    {
     "name": "stdout",
     "output_type": "stream",
     "text": [
      "Enter the value of x : 100\n",
      "Enter the value of y : 90\n",
      "Enter the value of z : 25\n",
      "The Triangle is exist\n"
     ]
    }
   ],
   "source": [
    "# Insent the length of the Triangle\n",
    "\n",
    "# We need three sides of the length\n",
    "\n",
    "x = float(input(\"Enter the value of x : \"))\n",
    "\n",
    "y = float(input(\"Enter the value of y : \"))\n",
    "\n",
    "z = float(input(\"Enter the value of z : \"))\n",
    "\n",
    "if(x+y > z and  x+z > y and y+z > x):\n",
    "    print(\"The Triangle is exist\")\n",
    "else:\n",
    "    print(\"The Triangle is not exist\")"
   ]
  },
  {
   "cell_type": "markdown",
   "id": "bfaff485",
   "metadata": {},
   "source": [
    "# How to check for Leap Year?"
   ]
  },
  {
   "cell_type": "code",
   "execution_count": 48,
   "id": "0228f755",
   "metadata": {},
   "outputs": [
    {
     "name": "stdout",
     "output_type": "stream",
     "text": [
      "Enter the year to check Leap Year : 2024\n",
      "2024 is Leap Year\n"
     ]
    }
   ],
   "source": [
    "year = int(input(\"Enter the year to check Leap Year : \"))\n",
    "\n",
    "if(year % 4 == 0):\n",
    "    print(\"{} is Leap Year\".format(year))\n",
    "else:\n",
    "    print(\"{} is not Leap Year\".format(year))"
   ]
  },
  {
   "cell_type": "markdown",
   "id": "bdd08b78",
   "metadata": {},
   "source": [
    "# How to check if a point belongs to a circle?"
   ]
  },
  {
   "cell_type": "code",
   "execution_count": 2,
   "id": "e7d9efe9",
   "metadata": {},
   "outputs": [
    {
     "name": "stdout",
     "output_type": "stream",
     "text": [
      "Enter the point x : 2\n",
      "Enter the point y : 2\n",
      "Enter the radius : 5\n",
      "The point belongs to circle!\n"
     ]
    }
   ],
   "source": [
    "import math\n",
    "\n",
    "x = float(input(\"Enter the point x : \"))\n",
    "y = float(input(\"Enter the point y : \"))\n",
    "\n",
    "r = float(input(\"Enter the radius : \"))\n",
    "\n",
    "hypotenuse = math.sqrt(pow(x,2) + pow(y,2))\n",
    "\n",
    "if(hypotenuse <= r):\n",
    "    print(\"The point belongs to circle!\")\n",
    "else:\n",
    "    print(\"The point does not belong to circle\")"
   ]
  },
  {
   "cell_type": "markdown",
   "id": "817e78b6",
   "metadata": {},
   "source": [
    "# How to make guess the Random Number?"
   ]
  },
  {
   "cell_type": "code",
   "execution_count": 2,
   "id": "760dba3d",
   "metadata": {},
   "outputs": [
    {
     "name": "stdout",
     "output_type": "stream",
     "text": [
      "The trial no 1 :  40\n",
      "The input number is much\n",
      "The trial no 2 :  30\n",
      "The input number is less!\n",
      "The trial no 3 :  35\n",
      "The input number is less!\n",
      "The trial no 4 :  38\n",
      "The input number is less!\n",
      "The trial no 5 :  39\n",
      "The right guess!\n"
     ]
    }
   ],
   "source": [
    "from random import randint\n",
    "\n",
    "guess_no = randint(1,50)\n",
    "\n",
    "user_input = -1\n",
    "trial_period = 1\n",
    "\n",
    "while(guess_no != user_input):\n",
    "    print(\"The trial no %d : \"% trial_period,end=\" \")\n",
    "    user_input = int(input())\n",
    "    if(user_input < guess_no):\n",
    "        print(\"The input number is less!\")\n",
    "    elif(user_input > guess_no):\n",
    "        print(\"The input number is much\")\n",
    "    else:\n",
    "        print(\"The right guess!\")\n",
    "    trial_period += 1"
   ]
  },
  {
   "cell_type": "markdown",
   "id": "59424c45",
   "metadata": {},
   "source": [
    "# How to print out the ASCII Table?"
   ]
  },
  {
   "cell_type": "code",
   "execution_count": 5,
   "id": "ee9da704",
   "metadata": {},
   "outputs": [
    {
     "name": "stdout",
     "output_type": "stream",
     "text": [
      "  ! \" # $ % & ' ( ) \n",
      "* + , - . / 0 1 2 3 \n",
      "4 5 6 7 8 9 : ; < = \n",
      "> ? @ A B C D E F G \n",
      "H I J K L M N O P Q \n",
      "R S T U V W X Y Z [ \n",
      "\\ ] ^ _ ` a b c d e \n",
      "f g h i j k l m n o \n",
      "p q r s t u v w x y \n",
      "z { | } ~  \n"
     ]
    }
   ],
   "source": [
    "for i in range(32,128):\n",
    "    \n",
    "    # for character chr is used\n",
    "    \n",
    "    print(chr(i) ,end = \" \")\n",
    "    \n",
    "    # Per line 10 ASCII Values only\n",
    "    \n",
    "    if(i-1) % 10 == 0:\n",
    "        print()\n",
    "print()"
   ]
  },
  {
   "cell_type": "markdown",
   "id": "344e99dc",
   "metadata": {},
   "source": [
    "# How to create a Multiplication Table \n",
    "using While Loop"
   ]
  },
  {
   "cell_type": "code",
   "execution_count": 5,
   "id": "4451487b",
   "metadata": {},
   "outputs": [
    {
     "name": "stdout",
     "output_type": "stream",
     "text": [
      "  1  2  3  4  5  6  7  8  9\n",
      "  2  4  6  8 10 12 14 16 18\n",
      "  3  6  9 12 15 18 21 24 27\n",
      "  4  8 12 16 20 24 28 32 36\n",
      "  5 10 15 20 25 30 35 40 45\n",
      "  6 12 18 24 30 36 42 48 54\n",
      "  7 14 21 28 35 42 49 56 63\n",
      "  8 16 24 32 40 48 56 64 72\n",
      "  9 18 27 36 45 54 63 72 81\n"
     ]
    }
   ],
   "source": [
    "x = 1\n",
    "while(x < 10):\n",
    "    y = 1\n",
    "    while(y < 10):\n",
    "        print(\"%3d\" % (x * y), end = \"\")\n",
    "        y += 1\n",
    "    print()\n",
    "    x += 1"
   ]
  },
  {
   "cell_type": "markdown",
   "id": "0b8663ee",
   "metadata": {},
   "source": [
    "##### using For loop"
   ]
  },
  {
   "cell_type": "code",
   "execution_count": 6,
   "id": "5a0e263a",
   "metadata": {},
   "outputs": [
    {
     "name": "stdout",
     "output_type": "stream",
     "text": [
      "  1  2  3  4  5  6  7  8  9\n",
      "  2  4  6  8 10 12 14 16 18\n",
      "  3  6  9 12 15 18 21 24 27\n",
      "  4  8 12 16 20 24 28 32 36\n",
      "  5 10 15 20 25 30 35 40 45\n",
      "  6 12 18 24 30 36 42 48 54\n",
      "  7 14 21 28 35 42 49 56 63\n",
      "  8 16 24 32 40 48 56 64 72\n",
      "  9 18 27 36 45 54 63 72 81\n"
     ]
    }
   ],
   "source": [
    "for i in range(1,10):\n",
    "    for j in range(1,10):\n",
    "        print(\"%3d\" % (i * j), end = \"\")\n",
    "    print()"
   ]
  },
  {
   "cell_type": "markdown",
   "id": "d1066fb6",
   "metadata": {},
   "source": [
    "# How to convert from Base 2 to 9?"
   ]
  },
  {
   "cell_type": "code",
   "execution_count": 5,
   "id": "88b81cc3",
   "metadata": {},
   "outputs": [
    {
     "name": "stdout",
     "output_type": "stream",
     "text": [
      "Enter any number : 90\n",
      "Choose the base (2-9) : 5\n",
      "330\n"
     ]
    }
   ],
   "source": [
    "no = int(input(\"Enter any number : \"))\n",
    "base_num = int(input(\"Choose the base (2-9) : \"))\n",
    "\n",
    "if not(base_num >= 2 and base_num <= 9):\n",
    "    quit()\n",
    "\n",
    "num2 = \"\"\n",
    "while(no >0):\n",
    "    num2 = str(no % base_num) + num2\n",
    "    no = no // base_num\n",
    "print(num2)"
   ]
  },
  {
   "cell_type": "markdown",
   "id": "14c34986",
   "metadata": {},
   "source": [
    "# How to build a simple Calculator?"
   ]
  },
  {
   "cell_type": "code",
   "execution_count": 1,
   "id": "4d91fd34",
   "metadata": {},
   "outputs": [
    {
     "name": "stdout",
     "output_type": "stream",
     "text": [
      "Zero terminates the program\n",
      "Choose any operator(+,-,*,/) : 0\n"
     ]
    }
   ],
   "source": [
    "print(\"Zero terminates the program\")\n",
    "while True:\n",
    "    op = input(\"Choose any operator(+,-,*,/) : \")\n",
    "    if(op == \"0\"):\n",
    "        break\n",
    "    if op in (\"+\",\"-\",\"*\",\"/\",\"%\"):\n",
    "        x = float(input(\"Enter the First number : \"))\n",
    "        y = float(input(\"Enter the second number : \"))\n",
    "        if(op == \"+\"):\n",
    "            print(\"%.2f\" % (x + y))\n",
    "        elif(op == \"-\"):\n",
    "            print(\"%.2f\" % (x - y))\n",
    "        elif(op == \"*\"):\n",
    "            print(\"%.2f\" % (x - y))\n",
    "        elif(op == \"/\"):\n",
    "            if(y != 0):\n",
    "                print(\"%.2f\" % (x / y))\n",
    "            else:\n",
    "                print(\"Error! Division By Zero\")\n",
    "        elif(op == \"%\"):\n",
    "            print(\"%.2f\" % (x % y))\n",
    "        else:\n",
    "            print(\"Invalid Operator\")"
   ]
  },
  {
   "cell_type": "markdown",
   "id": "487bc9e0",
   "metadata": {},
   "source": [
    "# Number of digits in an integer"
   ]
  },
  {
   "cell_type": "code",
   "execution_count": 2,
   "id": "ea92e1bf",
   "metadata": {},
   "outputs": [
    {
     "name": "stdout",
     "output_type": "stream",
     "text": [
      "Enter any number : 2356\n",
      "The number of integer is :  4\n"
     ]
    }
   ],
   "source": [
    "no = int(input(\"Enter any number : \"))\n",
    "# returns a positive integer\n",
    "no = abs(no)\n",
    "\n",
    "count = 1\n",
    "no = no // 10\n",
    "\n",
    "while(no > 0):\n",
    "    no = no // 10\n",
    "    count += 1\n",
    "print(\"The number of integer is : \",count)"
   ]
  },
  {
   "cell_type": "markdown",
   "id": "0d743759",
   "metadata": {},
   "source": [
    "# How to get sum and product of digits?"
   ]
  },
  {
   "cell_type": "code",
   "execution_count": 4,
   "id": "3c2de8ae",
   "metadata": {},
   "outputs": [
    {
     "name": "stdout",
     "output_type": "stream",
     "text": [
      "Enter any number : 243\n",
      "Sum of Digit :  9\n",
      "Multiply of Digit :  24\n"
     ]
    }
   ],
   "source": [
    "no = abs(int(input(\"Enter any number : \")))\n",
    "\n",
    "sum = 0\n",
    "mul = 1\n",
    "while(no != 0):\n",
    "    digit = no % 10\n",
    "    sum = sum + digit\n",
    "    mul = mul * digit\n",
    "    no = no // 10\n",
    "print(\"Sum of Digit : \",sum)\n",
    "print(\"Multiply of Digit : \", mul)"
   ]
  },
  {
   "cell_type": "markdown",
   "id": "065f6919",
   "metadata": {},
   "source": [
    "# How to make a binary search of number in an array?"
   ]
  },
  {
   "cell_type": "code",
   "execution_count": 2,
   "id": "1856cc38",
   "metadata": {},
   "outputs": [
    {
     "name": "stdout",
     "output_type": "stream",
     "text": [
      "sorted array :  [8, 30, 36, 48, 50, 50, 51, 55, 63, 66, 67, 75, 82, 84, 86, 87, 88, 96, 98, 98]\n",
      "Enter any number : 88\n",
      "The number is located at index :  16\n"
     ]
    }
   ],
   "source": [
    "from random import random\n",
    "\n",
    "N = 20\n",
    "array = []\n",
    "\n",
    "for i in range(N):\n",
    "    array.append(int(random() * 100))\n",
    "    \n",
    "array.sort()\n",
    "print(\"sorted array : \",array)\n",
    "\n",
    "no = int(input(\"Enter any number : \"))\n",
    "minimum = 0\n",
    "maximum = N-1\n",
    "\n",
    "while minimum <= maximum:\n",
    "    mid = (minimum + maximum) // 2\n",
    "    if no < array[mid]:\n",
    "        maximum = mid - 1\n",
    "    elif no > array[mid]:\n",
    "        minimum = mid + 1\n",
    "    else:\n",
    "        print(\"The number is located at index : \", mid)\n",
    "        break\n",
    "else:\n",
    "    print(\"There is no number\")"
   ]
  },
  {
   "cell_type": "code",
   "execution_count": 8,
   "id": "8b9db96d",
   "metadata": {},
   "outputs": [
    {
     "name": "stdout",
     "output_type": "stream",
     "text": [
      "enter any number : 9\n",
      "9  is prime number\n",
      "9  is not a prime number\n"
     ]
    }
   ],
   "source": [
    "no = int(input(\"enter any number : \"))\n",
    "\n",
    "if no > 1:\n",
    "    for i in range(2,no):\n",
    "        if(no % i == 0):\n",
    "            print(no,\" is not a prime number\")\n",
    "            break\n",
    "        else:\n",
    "            print(no, \" is prime number\")\n",
    "else:\n",
    "    print(no, \" is not a prime\")"
   ]
  },
  {
   "cell_type": "code",
   "execution_count": null,
   "id": "2bb85774",
   "metadata": {},
   "outputs": [],
   "source": []
  },
  {
   "cell_type": "code",
   "execution_count": null,
   "id": "9a845c35",
   "metadata": {},
   "outputs": [],
   "source": []
  }
 ],
 "metadata": {
  "kernelspec": {
   "display_name": "Python 3 (ipykernel)",
   "language": "python",
   "name": "python3"
  },
  "language_info": {
   "codemirror_mode": {
    "name": "ipython",
    "version": 3
   },
   "file_extension": ".py",
   "mimetype": "text/x-python",
   "name": "python",
   "nbconvert_exporter": "python",
   "pygments_lexer": "ipython3",
   "version": "3.9.13"
  }
 },
 "nbformat": 4,
 "nbformat_minor": 5
}
