{
 "cells": [
  {
   "cell_type": "markdown",
   "id": "79fca400",
   "metadata": {},
   "source": [
    "### Python Basics\n",
    "\n",
    "1. Data types\n",
    "\n",
    "2. Variables\n",
    "\n",
    "3. Expression\n",
    "\n",
    "4. String Operations"
   ]
  },
  {
   "cell_type": "markdown",
   "id": "436f13bc",
   "metadata": {},
   "source": [
    "### Data types\n",
    "\n",
    "1. Numbers\n",
    "\n",
    "2. Strings\n",
    "\n",
    "3. Boolean"
   ]
  },
  {
   "cell_type": "markdown",
   "id": "163167a7",
   "metadata": {},
   "source": [
    "### Numbers"
   ]
  },
  {
   "cell_type": "code",
   "execution_count": 2,
   "id": "aaedc203",
   "metadata": {},
   "outputs": [
    {
     "data": {
      "text/plain": [
       "10"
      ]
     },
     "execution_count": 2,
     "metadata": {},
     "output_type": "execute_result"
    }
   ],
   "source": [
    "# Integer\n",
    "\n",
    "50"
   ]
  },
  {
   "cell_type": "code",
   "execution_count": 3,
   "id": "d33662cc",
   "metadata": {},
   "outputs": [
    {
     "data": {
      "text/plain": [
       "40.78"
      ]
     },
     "execution_count": 3,
     "metadata": {},
     "output_type": "execute_result"
    }
   ],
   "source": [
    "# Floating point \n",
    "\n",
    "40.78"
   ]
  },
  {
   "cell_type": "code",
   "execution_count": 4,
   "id": "00b47fe8",
   "metadata": {},
   "outputs": [
    {
     "data": {
      "text/plain": [
       "(2+5j)"
      ]
     },
     "execution_count": 4,
     "metadata": {},
     "output_type": "execute_result"
    }
   ],
   "source": [
    "# Complex Number \n",
    "\n",
    "2 + 5j"
   ]
  },
  {
   "cell_type": "markdown",
   "id": "e010f55c",
   "metadata": {},
   "source": [
    "### Number type Conversion"
   ]
  },
  {
   "cell_type": "code",
   "execution_count": 5,
   "id": "df187040",
   "metadata": {},
   "outputs": [
    {
     "data": {
      "text/plain": [
       "7"
      ]
     },
     "execution_count": 5,
     "metadata": {},
     "output_type": "execute_result"
    }
   ],
   "source": [
    "int(7.89)"
   ]
  },
  {
   "cell_type": "code",
   "execution_count": 6,
   "id": "984a949d",
   "metadata": {},
   "outputs": [
    {
     "data": {
      "text/plain": [
       "56.0"
      ]
     },
     "execution_count": 6,
     "metadata": {},
     "output_type": "execute_result"
    }
   ],
   "source": [
    "float(56)"
   ]
  },
  {
   "cell_type": "code",
   "execution_count": 8,
   "id": "00b7fade",
   "metadata": {},
   "outputs": [
    {
     "data": {
      "text/plain": [
       "(8+7j)"
      ]
     },
     "execution_count": 8,
     "metadata": {},
     "output_type": "execute_result"
    }
   ],
   "source": [
    "complex(8,7)"
   ]
  },
  {
   "cell_type": "markdown",
   "id": "b0ef7e07",
   "metadata": {},
   "source": [
    "### String"
   ]
  },
  {
   "cell_type": "code",
   "execution_count": 13,
   "id": "9178e665",
   "metadata": {},
   "outputs": [
    {
     "data": {
      "text/plain": [
       "'50'"
      ]
     },
     "execution_count": 13,
     "metadata": {},
     "output_type": "execute_result"
    }
   ],
   "source": [
    "\"50\""
   ]
  },
  {
   "cell_type": "code",
   "execution_count": 14,
   "id": "a39763ea",
   "metadata": {},
   "outputs": [
    {
     "data": {
      "text/plain": [
       "'Only strong birds fly in the storm'"
      ]
     },
     "execution_count": 14,
     "metadata": {},
     "output_type": "execute_result"
    }
   ],
   "source": [
    "# string by single quote\n",
    "\n",
    "'Only strong birds fly in the storm'"
   ]
  },
  {
   "cell_type": "code",
   "execution_count": 12,
   "id": "416a746f",
   "metadata": {},
   "outputs": [
    {
     "data": {
      "text/plain": [
       "'live little things'"
      ]
     },
     "execution_count": 12,
     "metadata": {},
     "output_type": "execute_result"
    }
   ],
   "source": [
    "# string by double quote\n",
    "\n",
    "\"live little things\""
   ]
  },
  {
   "cell_type": "markdown",
   "id": "878f06e6",
   "metadata": {},
   "source": [
    "### Boolean"
   ]
  },
  {
   "cell_type": "code",
   "execution_count": 15,
   "id": "eebb8341",
   "metadata": {},
   "outputs": [
    {
     "data": {
      "text/plain": [
       "True"
      ]
     },
     "execution_count": 15,
     "metadata": {},
     "output_type": "execute_result"
    }
   ],
   "source": [
    "True "
   ]
  },
  {
   "cell_type": "code",
   "execution_count": 16,
   "id": "7beee54e",
   "metadata": {},
   "outputs": [
    {
     "data": {
      "text/plain": [
       "False"
      ]
     },
     "execution_count": 16,
     "metadata": {},
     "output_type": "execute_result"
    }
   ],
   "source": [
    "False"
   ]
  },
  {
   "cell_type": "markdown",
   "id": "656ff9f2",
   "metadata": {},
   "source": [
    "## Variables\n",
    "\n",
    "1. Variables are containers for storing data values\n",
    "\n",
    "2. To create a variable ,you simply need to assign a value to a name using the assignment operator (=)"
   ]
  },
  {
   "cell_type": "markdown",
   "id": "fd1d597d",
   "metadata": {},
   "source": [
    "## Rules for python variable\n",
    "\n",
    "1. variable names in python have to start with a letter or an underscore\n",
    "2. They cannot start with a number\n",
    "3. They can't include any special characters except underscore\n",
    "4. variable names are case sensitive\n",
    "(age , AGE are different variable)"
   ]
  },
  {
   "cell_type": "markdown",
   "id": "50d1479e",
   "metadata": {},
   "source": [
    "## Expressions"
   ]
  },
  {
   "cell_type": "markdown",
   "id": "f317cd0e",
   "metadata": {},
   "source": [
    "### Arithmetic Expression"
   ]
  },
  {
   "cell_type": "markdown",
   "id": "93fb3e54",
   "metadata": {},
   "source": [
    "#### 1. Addition "
   ]
  },
  {
   "cell_type": "code",
   "execution_count": 19,
   "id": "44e35590",
   "metadata": {},
   "outputs": [
    {
     "data": {
      "text/plain": [
       "10"
      ]
     },
     "execution_count": 19,
     "metadata": {},
     "output_type": "execute_result"
    }
   ],
   "source": [
    "40 - 30"
   ]
  },
  {
   "cell_type": "markdown",
   "id": "5de48562",
   "metadata": {},
   "source": [
    "#### 2. Subtraction"
   ]
  },
  {
   "cell_type": "code",
   "execution_count": 20,
   "id": "01470db0",
   "metadata": {},
   "outputs": [
    {
     "data": {
      "text/plain": [
       "20"
      ]
     },
     "execution_count": 20,
     "metadata": {},
     "output_type": "execute_result"
    }
   ],
   "source": [
    "50 - 30"
   ]
  },
  {
   "cell_type": "markdown",
   "id": "f6f1e320",
   "metadata": {},
   "source": [
    "#### 3. Multiplication"
   ]
  },
  {
   "cell_type": "code",
   "execution_count": 21,
   "id": "05cd7a7c",
   "metadata": {},
   "outputs": [
    {
     "data": {
      "text/plain": [
       "81"
      ]
     },
     "execution_count": 21,
     "metadata": {},
     "output_type": "execute_result"
    }
   ],
   "source": [
    "9 * 9"
   ]
  },
  {
   "cell_type": "markdown",
   "id": "32dff111",
   "metadata": {},
   "source": [
    "#### 4. Division"
   ]
  },
  {
   "cell_type": "code",
   "execution_count": 22,
   "id": "0f0b9635",
   "metadata": {},
   "outputs": [
    {
     "data": {
      "text/plain": [
       "20.0"
      ]
     },
     "execution_count": 22,
     "metadata": {},
     "output_type": "execute_result"
    }
   ],
   "source": [
    "40 / 2"
   ]
  },
  {
   "cell_type": "markdown",
   "id": "38685b31",
   "metadata": {},
   "source": [
    "#### 5. Modulas"
   ]
  },
  {
   "cell_type": "code",
   "execution_count": 23,
   "id": "790d3374",
   "metadata": {},
   "outputs": [
    {
     "data": {
      "text/plain": [
       "1"
      ]
     },
     "execution_count": 23,
     "metadata": {},
     "output_type": "execute_result"
    }
   ],
   "source": [
    "25 % 3"
   ]
  },
  {
   "cell_type": "markdown",
   "id": "5076192f",
   "metadata": {},
   "source": [
    "#### 6. Exponentiation"
   ]
  },
  {
   "cell_type": "code",
   "execution_count": 24,
   "id": "1cedbb32",
   "metadata": {},
   "outputs": [
    {
     "data": {
      "text/plain": [
       "81"
      ]
     },
     "execution_count": 24,
     "metadata": {},
     "output_type": "execute_result"
    }
   ],
   "source": [
    "3 ** 4"
   ]
  },
  {
   "cell_type": "markdown",
   "id": "32e34472",
   "metadata": {},
   "source": [
    "#### 7. Floor Division "
   ]
  },
  {
   "cell_type": "code",
   "execution_count": 25,
   "id": "44c288e4",
   "metadata": {},
   "outputs": [
    {
     "data": {
      "text/plain": [
       "10"
      ]
     },
     "execution_count": 25,
     "metadata": {},
     "output_type": "execute_result"
    }
   ],
   "source": [
    "30 // 3"
   ]
  },
  {
   "cell_type": "markdown",
   "id": "ab01fcbc",
   "metadata": {},
   "source": [
    "### Relational Expression "
   ]
  },
  {
   "cell_type": "markdown",
   "id": "d2d30cbe",
   "metadata": {},
   "source": [
    "#### 1. Equal to "
   ]
  },
  {
   "cell_type": "code",
   "execution_count": 26,
   "id": "5d50a659",
   "metadata": {},
   "outputs": [
    {
     "data": {
      "text/plain": [
       "True"
      ]
     },
     "execution_count": 26,
     "metadata": {},
     "output_type": "execute_result"
    }
   ],
   "source": [
    "10 == 10"
   ]
  },
  {
   "cell_type": "markdown",
   "id": "98833afe",
   "metadata": {},
   "source": [
    "#### 2. Not Equal to "
   ]
  },
  {
   "cell_type": "code",
   "execution_count": 29,
   "id": "ee6b3f42",
   "metadata": {},
   "outputs": [
    {
     "data": {
      "text/plain": [
       "False"
      ]
     },
     "execution_count": 29,
     "metadata": {},
     "output_type": "execute_result"
    }
   ],
   "source": [
    "7 != 7"
   ]
  },
  {
   "cell_type": "markdown",
   "id": "d449f145",
   "metadata": {},
   "source": [
    "#### 3. Greater than"
   ]
  },
  {
   "cell_type": "code",
   "execution_count": 30,
   "id": "7c939b97",
   "metadata": {},
   "outputs": [
    {
     "data": {
      "text/plain": [
       "True"
      ]
     },
     "execution_count": 30,
     "metadata": {},
     "output_type": "execute_result"
    }
   ],
   "source": [
    "50 > 25"
   ]
  },
  {
   "cell_type": "markdown",
   "id": "210d4d8a",
   "metadata": {},
   "source": [
    "#### 4. Less than"
   ]
  },
  {
   "cell_type": "code",
   "execution_count": 31,
   "id": "33fac795",
   "metadata": {},
   "outputs": [
    {
     "data": {
      "text/plain": [
       "True"
      ]
     },
     "execution_count": 31,
     "metadata": {},
     "output_type": "execute_result"
    }
   ],
   "source": [
    "30 < 70"
   ]
  },
  {
   "cell_type": "markdown",
   "id": "2a769c91",
   "metadata": {},
   "source": [
    "#### 5. Greater than or equal to "
   ]
  },
  {
   "cell_type": "code",
   "execution_count": 32,
   "id": "acce4afd",
   "metadata": {},
   "outputs": [
    {
     "data": {
      "text/plain": [
       "True"
      ]
     },
     "execution_count": 32,
     "metadata": {},
     "output_type": "execute_result"
    }
   ],
   "source": [
    "60 >= 40"
   ]
  },
  {
   "cell_type": "markdown",
   "id": "a08bf316",
   "metadata": {},
   "source": [
    "#### 6. Less than or equal to "
   ]
  },
  {
   "cell_type": "code",
   "execution_count": 34,
   "id": "0b1d2001",
   "metadata": {},
   "outputs": [
    {
     "data": {
      "text/plain": [
       "False"
      ]
     },
     "execution_count": 34,
     "metadata": {},
     "output_type": "execute_result"
    }
   ],
   "source": [
    "50 <= 40"
   ]
  },
  {
   "cell_type": "markdown",
   "id": "4d9c2217",
   "metadata": {},
   "source": [
    "### Assignment Expression"
   ]
  },
  {
   "cell_type": "code",
   "execution_count": 39,
   "id": "3fb6a43b",
   "metadata": {},
   "outputs": [
    {
     "data": {
      "text/plain": [
       "2"
      ]
     },
     "execution_count": 39,
     "metadata": {},
     "output_type": "execute_result"
    }
   ],
   "source": [
    "x = 0\n",
    "x = x + 1 \n",
    "x += 1\n",
    "x"
   ]
  },
  {
   "cell_type": "code",
   "execution_count": 42,
   "id": "37e61089",
   "metadata": {},
   "outputs": [
    {
     "data": {
      "text/plain": [
       "1"
      ]
     },
     "execution_count": 42,
     "metadata": {},
     "output_type": "execute_result"
    }
   ],
   "source": [
    "x = 3\n",
    "x = x -1\n",
    "x -= 1\n",
    "x"
   ]
  },
  {
   "cell_type": "code",
   "execution_count": 43,
   "id": "d985d22e",
   "metadata": {},
   "outputs": [
    {
     "data": {
      "text/plain": [
       "64"
      ]
     },
     "execution_count": 43,
     "metadata": {},
     "output_type": "execute_result"
    }
   ],
   "source": [
    "x = 4\n",
    "x = x * 4\n",
    "x *= 4\n",
    "x"
   ]
  },
  {
   "cell_type": "code",
   "execution_count": 44,
   "id": "e2c45a54",
   "metadata": {},
   "outputs": [
    {
     "data": {
      "text/plain": [
       "5.0"
      ]
     },
     "execution_count": 44,
     "metadata": {},
     "output_type": "execute_result"
    }
   ],
   "source": [
    "x = 125\n",
    "x = x / 5\n",
    "x /= 5\n",
    "x"
   ]
  },
  {
   "cell_type": "code",
   "execution_count": 45,
   "id": "620ec1ee",
   "metadata": {},
   "outputs": [
    {
     "data": {
      "text/plain": [
       "1"
      ]
     },
     "execution_count": 45,
     "metadata": {},
     "output_type": "execute_result"
    }
   ],
   "source": [
    "x = 56\n",
    "x = x % 5\n",
    "x %= 5\n",
    "x"
   ]
  },
  {
   "cell_type": "markdown",
   "id": "1196b8b5",
   "metadata": {
    "slideshow": {
     "slide_type": "slide"
    }
   },
   "source": [
    "### Logical Expression "
   ]
  },
  {
   "cell_type": "markdown",
   "id": "7aa94826",
   "metadata": {
    "raw_mimetype": "text/html",
    "slideshow": {
     "slide_type": "notes"
    },
    "tags": [
     "</table>",
     "<tr>",
     "okay",
     "</tr>"
    ]
   },
   "source": [
    "AND - both the values true means true , otherwise False\n",
    "\n",
    "OR - both the values false means false , otherwise True\n",
    "\n",
    "NOT - opposite of the another value , True means False"
   ]
  },
  {
   "cell_type": "markdown",
   "id": "2f5acfe9",
   "metadata": {},
   "source": [
    "### AND Operation"
   ]
  },
  {
   "cell_type": "code",
   "execution_count": 1,
   "id": "ec6d4a2f",
   "metadata": {},
   "outputs": [
    {
     "name": "stdout",
     "output_type": "stream",
     "text": [
      "True\n"
     ]
    }
   ],
   "source": [
    "print(True and True)"
   ]
  },
  {
   "cell_type": "markdown",
   "id": "bec4d212",
   "metadata": {},
   "source": [
    "### OR Operation"
   ]
  },
  {
   "cell_type": "code",
   "execution_count": 2,
   "id": "92b50711",
   "metadata": {},
   "outputs": [
    {
     "name": "stdout",
     "output_type": "stream",
     "text": [
      "False\n"
     ]
    }
   ],
   "source": [
    "print(False or False)"
   ]
  },
  {
   "cell_type": "markdown",
   "id": "512b6724",
   "metadata": {},
   "source": [
    "### NOT Operation"
   ]
  },
  {
   "cell_type": "code",
   "execution_count": 3,
   "id": "c9b02b18",
   "metadata": {},
   "outputs": [
    {
     "name": "stdout",
     "output_type": "stream",
     "text": [
      "False\n"
     ]
    }
   ],
   "source": [
    "print(not True)"
   ]
  },
  {
   "cell_type": "markdown",
   "id": "d7b7495d",
   "metadata": {},
   "source": [
    "### Identity Expression "
   ]
  },
  {
   "cell_type": "code",
   "execution_count": 62,
   "id": "f4dadfc2",
   "metadata": {},
   "outputs": [
    {
     "name": "stdout",
     "output_type": "stream",
     "text": [
      "True\n",
      "False\n"
     ]
    }
   ],
   "source": [
    "x = 9\n",
    "y = 9\n",
    "\n",
    "print(x is y)\n",
    "print(x is not y)"
   ]
  },
  {
   "cell_type": "markdown",
   "id": "7ca4c4ad",
   "metadata": {},
   "source": [
    "### Membership Expression"
   ]
  },
  {
   "cell_type": "code",
   "execution_count": 63,
   "id": "e794f122",
   "metadata": {},
   "outputs": [
    {
     "name": "stdout",
     "output_type": "stream",
     "text": [
      "True\n",
      "False\n"
     ]
    }
   ],
   "source": [
    "x = 9\n",
    "y = [9,6]\n",
    "\n",
    "print(x in y)\n",
    "print(x not in y)"
   ]
  },
  {
   "cell_type": "markdown",
   "id": "d22f8006",
   "metadata": {},
   "source": [
    "## String Operations "
   ]
  },
  {
   "cell_type": "markdown",
   "id": "78e273eb",
   "metadata": {},
   "source": [
    "### To find the length of the string "
   ]
  },
  {
   "cell_type": "code",
   "execution_count": 42,
   "id": "b3173027",
   "metadata": {},
   "outputs": [
    {
     "name": "stdout",
     "output_type": "stream",
     "text": [
      "23\n"
     ]
    }
   ],
   "source": [
    "quote = \"life tip,stop expecting\"\n",
    "\n",
    "res = len(quote)\n",
    "\n",
    "print(res)"
   ]
  },
  {
   "cell_type": "markdown",
   "id": "cb797b09",
   "metadata": {},
   "source": [
    "### Indexing of the string \n",
    "\n",
    "1. It starts with a 0 for first character\n",
    "\n",
    "2. Last character represents as -1 index\n"
   ]
  },
  {
   "cell_type": "code",
   "execution_count": 1,
   "id": "713cadc4",
   "metadata": {},
   "outputs": [
    {
     "name": "stdout",
     "output_type": "stream",
     "text": [
      "h\n"
     ]
    }
   ],
   "source": [
    "feel = \"Feelings hit you differently at a night\"\n",
    "\n",
    "print(feel[9])"
   ]
  },
  {
   "cell_type": "markdown",
   "id": "d18c18ba",
   "metadata": {},
   "source": [
    "### String slicing"
   ]
  },
  {
   "cell_type": "code",
   "execution_count": 3,
   "id": "b6caf8c6",
   "metadata": {},
   "outputs": [
    {
     "name": "stdout",
     "output_type": "stream",
     "text": [
      "big things happen \n",
      "big things \n",
      "little by little\n",
      "big things happen , little by little\n"
     ]
    }
   ],
   "source": [
    "positive = \"big things happen , little by little\"\n",
    "\n",
    "print(positive[0:18])\n",
    "\n",
    "print(positive[:11])\n",
    "\n",
    "print(positive[20:])\n",
    "\n",
    "print(positive[:])"
   ]
  },
  {
   "cell_type": "markdown",
   "id": "5a71d293",
   "metadata": {},
   "source": [
    "### String Concatenation"
   ]
  },
  {
   "cell_type": "code",
   "execution_count": 4,
   "id": "949ca36e",
   "metadata": {},
   "outputs": [
    {
     "name": "stdout",
     "output_type": "stream",
     "text": [
      "Think a little less Live a little more\n"
     ]
    }
   ],
   "source": [
    "less = \"Think a little less\"\n",
    "more = \" Live a little more\"\n",
    "\n",
    "print(less + more)"
   ]
  },
  {
   "cell_type": "markdown",
   "id": "1fc6fbb3",
   "metadata": {},
   "source": [
    "### String Format\n",
    "\n",
    "1. we cannot combine strings and numbers \n",
    "\n",
    "2. Using the format method it is possible\n",
    "\n",
    "3. placeholders should be the {}"
   ]
  },
  {
   "cell_type": "code",
   "execution_count": 5,
   "id": "b5961669",
   "metadata": {},
   "outputs": [
    {
     "name": "stdout",
     "output_type": "stream",
     "text": [
      "What is your age? 21\n"
     ]
    }
   ],
   "source": [
    "age = 21\n",
    "\n",
    "print(f\"What is your age? {age}\")"
   ]
  },
  {
   "cell_type": "code",
   "execution_count": 6,
   "id": "098c3179",
   "metadata": {},
   "outputs": [
    {
     "name": "stdout",
     "output_type": "stream",
     "text": [
      "What is your name? Karthik\n"
     ]
    }
   ],
   "source": [
    "print(\"What is your name? {name}\".format(name = \"Karthik\"))"
   ]
  },
  {
   "cell_type": "markdown",
   "id": "6a3513f6",
   "metadata": {},
   "source": [
    "### Find the index of the character"
   ]
  },
  {
   "cell_type": "code",
   "execution_count": 84,
   "id": "0e4db3ac",
   "metadata": {},
   "outputs": [
    {
     "name": "stdout",
     "output_type": "stream",
     "text": [
      "10\n"
     ]
    }
   ],
   "source": [
    "offer = \"life is a one time offer\"\n",
    "\n",
    "res = offer.index(\"o\")\n",
    "\n",
    "print(res)"
   ]
  },
  {
   "cell_type": "markdown",
   "id": "edd03e1c",
   "metadata": {},
   "source": [
    "### To count the substring in a string"
   ]
  },
  {
   "cell_type": "code",
   "execution_count": 85,
   "id": "6739c48a",
   "metadata": {},
   "outputs": [
    {
     "name": "stdout",
     "output_type": "stream",
     "text": [
      "1\n"
     ]
    }
   ],
   "source": [
    "msg = \"My Life is My message\"\n",
    "\n",
    "res = msg.count(\"Life\")\n",
    "\n",
    "print(res)"
   ]
  },
  {
   "cell_type": "markdown",
   "id": "b12ecd66",
   "metadata": {},
   "source": [
    "### To Capitalize the string "
   ]
  },
  {
   "cell_type": "code",
   "execution_count": 1,
   "id": "4589d1bd",
   "metadata": {},
   "outputs": [
    {
     "name": "stdout",
     "output_type": "stream",
     "text": [
      "Trust the timing of your life!\n"
     ]
    }
   ],
   "source": [
    "msg = \"trust the timing of your life!\"\n",
    "\n",
    "print(msg.capitalize())"
   ]
  },
  {
   "cell_type": "markdown",
   "id": "ec6535ac",
   "metadata": {},
   "source": [
    "### Uppercase the string "
   ]
  },
  {
   "cell_type": "code",
   "execution_count": 88,
   "id": "809ed0a9",
   "metadata": {},
   "outputs": [
    {
     "name": "stdout",
     "output_type": "stream",
     "text": [
      "LIFE IS A ONE TIME OFFER , USE IT WELL!\n"
     ]
    }
   ],
   "source": [
    "msg = \"Life is a one time offer , Use it well!\"\n",
    "\n",
    "print(msg.upper())"
   ]
  },
  {
   "cell_type": "markdown",
   "id": "c0ac390b",
   "metadata": {},
   "source": [
    "### Lowercase the string"
   ]
  },
  {
   "cell_type": "code",
   "execution_count": 89,
   "id": "e04b55d2",
   "metadata": {},
   "outputs": [
    {
     "name": "stdout",
     "output_type": "stream",
     "text": [
      "none are so brave as the anonymous\n"
     ]
    }
   ],
   "source": [
    "msg = \"None are so brave as the anonymous\"\n",
    "\n",
    "print(msg.lower())"
   ]
  },
  {
   "cell_type": "markdown",
   "id": "c150cd13",
   "metadata": {},
   "source": [
    "### Replace the string"
   ]
  },
  {
   "cell_type": "code",
   "execution_count": 90,
   "id": "1f0a85a6",
   "metadata": {},
   "outputs": [
    {
     "name": "stdout",
     "output_type": "stream",
     "text": [
      "I grow through what I go through\n"
     ]
    }
   ],
   "source": [
    "msg = \"we grow through what we go through\"\n",
    "\n",
    "res = msg.replace(\"we\",\"I\")\n",
    "\n",
    "print(res)"
   ]
  },
  {
   "cell_type": "code",
   "execution_count": 92,
   "id": "555048d2",
   "metadata": {},
   "outputs": [
    {
     "name": "stdout",
     "output_type": "stream",
     "text": [
      "Believe we can and you are halfway there\n"
     ]
    }
   ],
   "source": [
    "msg = \"Believe you can and you are halfway there\"\n",
    "\n",
    "res = msg.replace(\"you\",\"we\",1)\n",
    "\n",
    "print(res)"
   ]
  },
  {
   "cell_type": "markdown",
   "id": "2bc2dcb3",
   "metadata": {},
   "source": [
    "### Split the string"
   ]
  },
  {
   "cell_type": "code",
   "execution_count": 93,
   "id": "8087e72c",
   "metadata": {},
   "outputs": [
    {
     "name": "stdout",
     "output_type": "stream",
     "text": [
      "['The', 'best', 'revenge', 'is', 'massive', 'success']\n"
     ]
    }
   ],
   "source": [
    "msg = \"The best revenge is massive success\"\n",
    "\n",
    "res = msg.split()\n",
    "\n",
    "print(res)"
   ]
  },
  {
   "cell_type": "code",
   "execution_count": 94,
   "id": "9f22a8a3",
   "metadata": {},
   "outputs": [
    {
     "name": "stdout",
     "output_type": "stream",
     "text": [
      "['If you fell down yesterday ', 'stand up today']\n"
     ]
    }
   ],
   "source": [
    "msg = \"If you fell down yesterday , stand up today\"\n",
    "\n",
    "res = msg.split(\", \")\n",
    "\n",
    "print(res)"
   ]
  },
  {
   "cell_type": "markdown",
   "id": "32d809f9",
   "metadata": {},
   "source": [
    "### To Find the string"
   ]
  },
  {
   "cell_type": "code",
   "execution_count": 95,
   "id": "9f339dfb",
   "metadata": {},
   "outputs": [
    {
     "name": "stdout",
     "output_type": "stream",
     "text": [
      "3\n"
     ]
    }
   ],
   "source": [
    "msg = \"If you can dream it , you can do it\"\n",
    "\n",
    "res = msg.find(\"y\")\n",
    "\n",
    "print(res)"
   ]
  },
  {
   "cell_type": "markdown",
   "id": "9870598a",
   "metadata": {},
   "source": [
    "### To strip the string"
   ]
  },
  {
   "cell_type": "code",
   "execution_count": 97,
   "id": "2547e12c",
   "metadata": {},
   "outputs": [
    {
     "name": "stdout",
     "output_type": "stream",
     "text": [
      " hello \n"
     ]
    }
   ],
   "source": [
    "msg = \",......... hello ...,,.,,...\"\n",
    "\n",
    "res = msg.strip(\",.\")\n",
    "\n",
    "print(res)"
   ]
  },
  {
   "cell_type": "markdown",
   "id": "eefc8dcf",
   "metadata": {},
   "source": [
    "## Python Data Structures"
   ]
  },
  {
   "cell_type": "markdown",
   "id": "6ae0e6b3",
   "metadata": {},
   "source": [
    "1. List\n",
    "\n",
    "2. Tuple\n",
    "\n",
    "3. Set\n",
    "\n",
    "4. Dictionary"
   ]
  },
  {
   "cell_type": "markdown",
   "id": "8d628b61",
   "metadata": {},
   "source": [
    "## Lists\n",
    "\n",
    "1. A list is a collection of items enclosed in square brackets [ ]\n",
    "\n",
    "2. lists are ordered and can be of any type (eg. integers and strings etc)\n",
    "\n",
    "3. lists are mutable , items can be modified after they are created"
   ]
  },
  {
   "cell_type": "markdown",
   "id": "2e6cd98f",
   "metadata": {},
   "source": [
    "### A range of index"
   ]
  },
  {
   "cell_type": "code",
   "execution_count": 98,
   "id": "f4df227b",
   "metadata": {},
   "outputs": [
    {
     "name": "stdout",
     "output_type": "stream",
     "text": [
      "['cherry', 'pineapple', 'strawberry']\n"
     ]
    }
   ],
   "source": [
    "li = ['apple','banana','cherry','pineapple','strawberry']\n",
    "\n",
    "print(li[2:])"
   ]
  },
  {
   "cell_type": "markdown",
   "id": "030506ed",
   "metadata": {},
   "source": [
    "### Change items present in list"
   ]
  },
  {
   "cell_type": "code",
   "execution_count": 99,
   "id": "fb309683",
   "metadata": {},
   "outputs": [
    {
     "name": "stdout",
     "output_type": "stream",
     "text": [
      "['potato', 'tomato', 'garlic', 'radish']\n"
     ]
    }
   ],
   "source": [
    "msg = [\"potato\",'tomato','brinjal','radish']\n",
    "    \n",
    "msg[2] = 'garlic'\n",
    "\n",
    "print(msg)"
   ]
  },
  {
   "cell_type": "markdown",
   "id": "d3dff04e",
   "metadata": {},
   "source": [
    "### Insert items in list"
   ]
  },
  {
   "cell_type": "code",
   "execution_count": 102,
   "id": "759d0e99",
   "metadata": {},
   "outputs": [
    {
     "name": "stdout",
     "output_type": "stream",
     "text": [
      "['TCS', 'IBM', 'wipro', 'cognizant', 'capgemini', 'apple', 'google']\n"
     ]
    }
   ],
   "source": [
    "company = ['TCS','wipro','cognizant','capgemini','apple','google']\n",
    "\n",
    "company.insert(1,\"IBM\")\n",
    "\n",
    "print(company)"
   ]
  },
  {
   "cell_type": "markdown",
   "id": "7a42787f",
   "metadata": {},
   "source": [
    "### Append in the list"
   ]
  },
  {
   "cell_type": "code",
   "execution_count": 103,
   "id": "524cd49b",
   "metadata": {},
   "outputs": [
    {
     "name": "stdout",
     "output_type": "stream",
     "text": [
      "['insta', 'facebook', 'whatsapp', 'inshot', 'gmail', 'Teams']\n"
     ]
    }
   ],
   "source": [
    "apps = ['insta','facebook','whatsapp','inshot','gmail']\n",
    "\n",
    "apps.append('Teams')\n",
    "\n",
    "print(apps)"
   ]
  },
  {
   "cell_type": "markdown",
   "id": "df055e64",
   "metadata": {},
   "source": [
    "### Extend in the List"
   ]
  },
  {
   "cell_type": "code",
   "execution_count": 2,
   "id": "64e73cd6",
   "metadata": {},
   "outputs": [
    {
     "name": "stdout",
     "output_type": "stream",
     "text": [
      "['apple', 'orange', 'banana', 'kiwi', 'pineapple', 'strawberry']\n"
     ]
    }
   ],
   "source": [
    "x = ['apple','orange','banana']\n",
    "\n",
    "y = ['kiwi','pineapple','strawberry']\n",
    "\n",
    "x.extend(y)\n",
    "\n",
    "print(x)"
   ]
  },
  {
   "cell_type": "markdown",
   "id": "67069f88",
   "metadata": {},
   "source": [
    "### Remove in the list"
   ]
  },
  {
   "cell_type": "code",
   "execution_count": 3,
   "id": "4be4ad4e",
   "metadata": {},
   "outputs": [
    {
     "name": "stdout",
     "output_type": "stream",
     "text": [
      "['orange', 'banana']\n"
     ]
    }
   ],
   "source": [
    "li = ['apple','orange','banana']\n",
    "\n",
    "li.remove('apple')\n",
    "\n",
    "print(li)"
   ]
  },
  {
   "cell_type": "markdown",
   "id": "1d27ea44",
   "metadata": {},
   "source": [
    "### Pop in the list"
   ]
  },
  {
   "cell_type": "code",
   "execution_count": 2,
   "id": "f5546ef2",
   "metadata": {},
   "outputs": [
    {
     "name": "stdout",
     "output_type": "stream",
     "text": [
      "['apple', 'orange']\n"
     ]
    }
   ],
   "source": [
    "x = ['apple','orange','banana']\n",
    "\n",
    "# mention the index number instead of name\n",
    "\n",
    "x.pop(2)\n",
    "\n",
    "print(x)"
   ]
  },
  {
   "cell_type": "markdown",
   "id": "259cd220",
   "metadata": {},
   "source": [
    "### Clear in the list"
   ]
  },
  {
   "cell_type": "code",
   "execution_count": 5,
   "id": "2734e78b",
   "metadata": {},
   "outputs": [
    {
     "name": "stdout",
     "output_type": "stream",
     "text": [
      "[]\n"
     ]
    }
   ],
   "source": [
    "x = ['apple','orange','banana']\n",
    "\n",
    "x.clear()\n",
    "\n",
    "print(x)"
   ]
  },
  {
   "cell_type": "markdown",
   "id": "3718ffdd",
   "metadata": {},
   "source": [
    "### Sorting List"
   ]
  },
  {
   "cell_type": "code",
   "execution_count": 6,
   "id": "2e13dd49",
   "metadata": {},
   "outputs": [
    {
     "name": "stdout",
     "output_type": "stream",
     "text": [
      "['apple', 'banana', 'orange', 'watermelon']\n"
     ]
    }
   ],
   "source": [
    "x = ['orange','watermelon','banana','apple']\n",
    "\n",
    "x.sort()\n",
    "\n",
    "print(x)"
   ]
  },
  {
   "cell_type": "markdown",
   "id": "98f52e36",
   "metadata": {},
   "source": [
    "### Descending List"
   ]
  },
  {
   "cell_type": "code",
   "execution_count": 7,
   "id": "59df4121",
   "metadata": {},
   "outputs": [
    {
     "name": "stdout",
     "output_type": "stream",
     "text": [
      "['watermelon', 'orange', 'banana', 'apple']\n"
     ]
    }
   ],
   "source": [
    "x = ['orange','watermelon','banana','apple']\n",
    "\n",
    "x.sort(reverse = True)\n",
    "\n",
    "print(x)"
   ]
  },
  {
   "cell_type": "markdown",
   "id": "b78aef51",
   "metadata": {},
   "source": [
    "### Copy the List"
   ]
  },
  {
   "cell_type": "code",
   "execution_count": 12,
   "id": "a9a81bb6",
   "metadata": {},
   "outputs": [
    {
     "name": "stdout",
     "output_type": "stream",
     "text": [
      "['orange', 'banana', 'apple']\n"
     ]
    }
   ],
   "source": [
    "x = ['orange','banana','apple']\n",
    "\n",
    "y = x.copy()\n",
    "\n",
    "print(y)"
   ]
  },
  {
   "cell_type": "markdown",
   "id": "c26d2f9c",
   "metadata": {},
   "source": [
    "## Tuple\n",
    "\n",
    "x = ('apple','orange','banana')\n",
    "\n",
    "1. Tuple is a collection of items enclosed in parenthesis ()\n",
    "\n",
    "2. Like lists, tuples are ordered and can be of any type\n",
    "\n",
    "3. However, tuples are immutable , which means that their items cannot be modified after they are created."
   ]
  },
  {
   "cell_type": "markdown",
   "id": "9d13f499",
   "metadata": {},
   "source": [
    "### Accessing items in tuple"
   ]
  },
  {
   "cell_type": "code",
   "execution_count": 3,
   "id": "687b5e90",
   "metadata": {},
   "outputs": [
    {
     "name": "stdout",
     "output_type": "stream",
     "text": [
      "apple\n",
      "orange\n",
      "banana\n"
     ]
    }
   ],
   "source": [
    "x = ('apple','orange','banana')\n",
    "\n",
    "print(x[0])\n",
    "\n",
    "print(x[1])\n",
    "\n",
    "print(x[2])"
   ]
  },
  {
   "cell_type": "markdown",
   "id": "295cdfcd",
   "metadata": {},
   "source": [
    "### Access a range of index "
   ]
  },
  {
   "cell_type": "code",
   "execution_count": 4,
   "id": "3e1938b3",
   "metadata": {},
   "outputs": [
    {
     "name": "stdout",
     "output_type": "stream",
     "text": [
      "('orange', 'banana', 'kiwi', 'strawberry')\n"
     ]
    }
   ],
   "source": [
    "x = ('apple','orange','banana','kiwi','strawberry')\n",
    "\n",
    "print(x[1:])"
   ]
  },
  {
   "cell_type": "markdown",
   "id": "8c56a831",
   "metadata": {},
   "source": [
    "### Tuple is immutable\n",
    "\n",
    "So we are converted into an list"
   ]
  },
  {
   "cell_type": "code",
   "execution_count": 7,
   "id": "18029bdb",
   "metadata": {},
   "outputs": [
    {
     "name": "stdout",
     "output_type": "stream",
     "text": [
      "('mango fruit', 'orange', 'banana')\n"
     ]
    }
   ],
   "source": [
    "x = ('apple','orange','banana')\n",
    "\n",
    "y = list(x)\n",
    "\n",
    "y[0] = 'mango fruit'\n",
    "\n",
    "x = tuple(y)\n",
    "\n",
    "print(x)"
   ]
  },
  {
   "cell_type": "markdown",
   "id": "5bdcbe0c",
   "metadata": {},
   "source": [
    "### Remove in the tuple "
   ]
  },
  {
   "cell_type": "code",
   "execution_count": 17,
   "id": "9357a1f8",
   "metadata": {},
   "outputs": [
    {
     "name": "stdout",
     "output_type": "stream",
     "text": [
      "('apple', 'banana')\n"
     ]
    }
   ],
   "source": [
    "x = ('apple','banana','cherry')\n",
    "\n",
    "y = list(x)\n",
    "\n",
    "y.remove(\"cherry\")\n",
    "\n",
    "x = tuple(y)\n",
    "\n",
    "print(x)"
   ]
  },
  {
   "cell_type": "markdown",
   "id": "92634528",
   "metadata": {},
   "source": [
    "### Combine two tuple"
   ]
  },
  {
   "cell_type": "code",
   "execution_count": 9,
   "id": "c36f420c",
   "metadata": {},
   "outputs": [
    {
     "name": "stdout",
     "output_type": "stream",
     "text": [
      "('apple', 'banana', 'cherry', 1, 2, 3)\n"
     ]
    }
   ],
   "source": [
    "x = (\"apple\",\"banana\",\"cherry\")\n",
    "\n",
    "y = (1,2,3)\n",
    "\n",
    "z = x + y\n",
    "\n",
    "print(z)"
   ]
  },
  {
   "cell_type": "markdown",
   "id": "7802597e",
   "metadata": {},
   "source": [
    "### Set "
   ]
  },
  {
   "cell_type": "markdown",
   "id": "50275d86",
   "metadata": {},
   "source": [
    "#### x = {\"apple\",\"orange\",\"banana\"}\n",
    "\n",
    "1. set is collection of unique items enclosed in curly braces {}.\n",
    "\n",
    "2. The items in a set have no defined order and can be of any type.\n",
    "\n",
    "3. sets are mutable.\n",
    "\n",
    "4. Duplicate is not allowed"
   ]
  },
  {
   "cell_type": "markdown",
   "id": "bc6dc1d8",
   "metadata": {},
   "source": [
    "### Duplicates will be ignored"
   ]
  },
  {
   "cell_type": "code",
   "execution_count": 7,
   "id": "7cd2b9b8",
   "metadata": {},
   "outputs": [
    {
     "name": "stdout",
     "output_type": "stream",
     "text": [
      "{'orange', 'apple', 'banana'}\n"
     ]
    }
   ],
   "source": [
    "x = {\"apple\",\"orange\",\"banana\"}\n",
    "\n",
    "print(x)"
   ]
  },
  {
   "cell_type": "markdown",
   "id": "b7cf802e",
   "metadata": {},
   "source": [
    "### Add in the set"
   ]
  },
  {
   "cell_type": "code",
   "execution_count": 8,
   "id": "dcafb073",
   "metadata": {},
   "outputs": [
    {
     "name": "stdout",
     "output_type": "stream",
     "text": [
      "{'orange', 'apple', 'banana', 'kiwi'}\n"
     ]
    }
   ],
   "source": [
    "x = {\"apple\",\"orange\",\"banana\"}\n",
    "\n",
    "x.add(\"kiwi\")\n",
    "\n",
    "print(x)"
   ]
  },
  {
   "cell_type": "markdown",
   "id": "7c26d61f",
   "metadata": {},
   "source": [
    "### Update in the set"
   ]
  },
  {
   "cell_type": "code",
   "execution_count": 15,
   "id": "7a7cb957",
   "metadata": {},
   "outputs": [
    {
     "name": "stdout",
     "output_type": "stream",
     "text": [
      "{'banana', 'orange', 'apple', 'kiwi', 'mango'}\n"
     ]
    }
   ],
   "source": [
    "x = {\"apple\",\"orange\",\"banana\"}\n",
    "\n",
    "y = {\"kiwi\",\"mango\"}\n",
    "\n",
    "x.update(y)\n",
    "\n",
    "print(x)"
   ]
  },
  {
   "cell_type": "markdown",
   "id": "bd0d3b66",
   "metadata": {},
   "source": [
    "### Remove in the set"
   ]
  },
  {
   "cell_type": "code",
   "execution_count": 24,
   "id": "dd06215d",
   "metadata": {},
   "outputs": [
    {
     "name": "stdout",
     "output_type": "stream",
     "text": [
      "{'banana', 'apple'}\n"
     ]
    }
   ],
   "source": [
    "x = {\"apple\",\"orange\",\"banana\"}\n",
    "\n",
    "x.remove(\"orange\")\n",
    "\n",
    "print(x)"
   ]
  },
  {
   "cell_type": "markdown",
   "id": "3168d904",
   "metadata": {},
   "source": [
    "### Difference in the set"
   ]
  },
  {
   "cell_type": "code",
   "execution_count": 25,
   "id": "c63c10ba",
   "metadata": {},
   "outputs": [
    {
     "name": "stdout",
     "output_type": "stream",
     "text": [
      "{1, 2, 3, 4}\n"
     ]
    }
   ],
   "source": [
    "x = {1,2,3,4,5,6}\n",
    "\n",
    "y = {5,6,7,8,9,10}\n",
    "\n",
    "print(x.difference(y))"
   ]
  },
  {
   "cell_type": "markdown",
   "id": "6473015b",
   "metadata": {},
   "source": [
    "### Difference in the set "
   ]
  },
  {
   "cell_type": "code",
   "execution_count": 16,
   "id": "97a05597",
   "metadata": {},
   "outputs": [
    {
     "name": "stdout",
     "output_type": "stream",
     "text": [
      "{8, 9, 10, 7}\n"
     ]
    }
   ],
   "source": [
    "x = {1,2,3,4,5,6}\n",
    "\n",
    "y = {5,6,7,8,9,10}\n",
    "\n",
    "print(y.difference(x))"
   ]
  },
  {
   "cell_type": "markdown",
   "id": "abba69b4",
   "metadata": {},
   "source": [
    "## Symmetric Difference"
   ]
  },
  {
   "cell_type": "code",
   "execution_count": 27,
   "id": "0722a338",
   "metadata": {},
   "outputs": [
    {
     "name": "stdout",
     "output_type": "stream",
     "text": [
      "{1, 2, 3, 4, 7, 8, 9, 10}\n"
     ]
    }
   ],
   "source": [
    "x = {1,2,3,4,5,6}\n",
    "\n",
    "y = {5,6,7,8,9,10}\n",
    "\n",
    "print(x.symmetric_difference(y))"
   ]
  },
  {
   "cell_type": "markdown",
   "id": "2a13c661",
   "metadata": {},
   "source": [
    "## Intersection"
   ]
  },
  {
   "cell_type": "code",
   "execution_count": 17,
   "id": "7d67dc10",
   "metadata": {},
   "outputs": [
    {
     "name": "stdout",
     "output_type": "stream",
     "text": [
      "{5, 6}\n"
     ]
    }
   ],
   "source": [
    "x = {1,2,3,4,5,6}\n",
    "\n",
    "y = {5,6,7,8,9,10}\n",
    "\n",
    "print(x.intersection(y))"
   ]
  },
  {
   "cell_type": "markdown",
   "id": "4db1c47e",
   "metadata": {},
   "source": [
    "## Dictionary\n",
    "\n",
    "1. Dictionary is a collection of key - value pairs enclosed in curly braces { }\n",
    "\n",
    "2. Dictionaries are also mutable \n",
    "\n",
    "3. key-value pairs can be added,removed or modified after they are created \n",
    "\n",
    "4. Duplicates are not allowed."
   ]
  },
  {
   "cell_type": "code",
   "execution_count": 19,
   "id": "63bdc6a5",
   "metadata": {},
   "outputs": [
    {
     "name": "stdout",
     "output_type": "stream",
     "text": [
      "{'name': 'bharani', 'age': 28, 'country': 'India'}\n"
     ]
    }
   ],
   "source": [
    "dict = {\n",
    "        \"name\" : \"bharani\",\n",
    "        \"age\" : 28,\n",
    "        \"country\" : \"India\"\n",
    "        }\n",
    "\n",
    "print(dict)"
   ]
  },
  {
   "cell_type": "markdown",
   "id": "900355df",
   "metadata": {},
   "source": [
    "## Duplicates are overwritted"
   ]
  },
  {
   "cell_type": "code",
   "execution_count": 20,
   "id": "8aa155e6",
   "metadata": {},
   "outputs": [
    {
     "name": "stdout",
     "output_type": "stream",
     "text": [
      "{'name': 'Poorni', 'age': 28, 'Country': 'India'}\n"
     ]
    }
   ],
   "source": [
    "dict = {\n",
    "            \"name\" : \"Poorni\",\n",
    "            \"age\" : 25,\n",
    "            \"Country\" : \"India\",\n",
    "            \"age\" : 28\n",
    "       }\n",
    "print(dict)"
   ]
  },
  {
   "cell_type": "markdown",
   "id": "b6733a5a",
   "metadata": {},
   "source": [
    "## All Datatypes are valid in dictionary\n",
    "\n",
    "1. Keys are immutable\n",
    "2. values can be any of the data type"
   ]
  },
  {
   "cell_type": "code",
   "execution_count": 25,
   "id": "0d2fe03d",
   "metadata": {},
   "outputs": [
    {
     "name": "stdout",
     "output_type": "stream",
     "text": [
      "{'brand': 'Lenova', 'RAM': '4GB', 'processor': 'Core i3 10th GEN', 'year': 2022, 'color': ['black', 'white'], 'os': ('windows', 'linux', 'mac'), 'FreeMouse': False}\n"
     ]
    }
   ],
   "source": [
    "dict = {\n",
    "            \"brand\" : \"Lenova\",\n",
    "            \"RAM\" : \"4GB\",\n",
    "            \"processor\" : \"Core i3 10th GEN\",\n",
    "            \"year\" : 2022,\n",
    "            \"color\" : ['black','white'],\n",
    "            \"os\" : ('windows',\"linux\",'mac'),\n",
    "            \"FreeMouse\" : False\n",
    "        }\n",
    "\n",
    "print(dict)"
   ]
  },
  {
   "cell_type": "markdown",
   "id": "94875e30",
   "metadata": {},
   "source": [
    "## Accessing the Dictionary"
   ]
  },
  {
   "cell_type": "code",
   "execution_count": 30,
   "id": "a2f69275",
   "metadata": {},
   "outputs": [
    {
     "name": "stdout",
     "output_type": "stream",
     "text": [
      "['Gold', 'silver']\n",
      "necklace\n"
     ]
    }
   ],
   "source": [
    "dict = {\n",
    "            \"product_name\" : \"necklace\",\n",
    "            \"product_id\" : \"GHt6789\",\n",
    "            \"amount\" : 4500,\n",
    "            \"type\" : [\"Gold\",\"silver\"]\n",
    "       }\n",
    "\n",
    "print(dict[\"type\"])\n",
    "\n",
    "res = dict.get(\"product_name\")\n",
    "\n",
    "print(res)"
   ]
  },
  {
   "cell_type": "markdown",
   "id": "00f2509c",
   "metadata": {},
   "source": [
    "### keys() method"
   ]
  },
  {
   "cell_type": "code",
   "execution_count": 32,
   "id": "354062c1",
   "metadata": {},
   "outputs": [
    {
     "name": "stdout",
     "output_type": "stream",
     "text": [
      "dict_keys(['product_name', 'product_id', 'amount', 'type'])\n"
     ]
    }
   ],
   "source": [
    "keys = dict.keys()\n",
    "\n",
    "print(keys)"
   ]
  },
  {
   "cell_type": "markdown",
   "id": "be45f47d",
   "metadata": {},
   "source": [
    "### values() method"
   ]
  },
  {
   "cell_type": "code",
   "execution_count": 33,
   "id": "faa3b0bb",
   "metadata": {},
   "outputs": [
    {
     "name": "stdout",
     "output_type": "stream",
     "text": [
      "dict_values(['necklace', 'GHt6789', 4500, ['Gold', 'silver']])\n"
     ]
    }
   ],
   "source": [
    "values = dict.values()\n",
    "\n",
    "print(values)"
   ]
  },
  {
   "cell_type": "markdown",
   "id": "3eed8581",
   "metadata": {},
   "source": [
    "### items() method"
   ]
  },
  {
   "cell_type": "code",
   "execution_count": 34,
   "id": "623782be",
   "metadata": {},
   "outputs": [
    {
     "name": "stdout",
     "output_type": "stream",
     "text": [
      "dict_items([('product_name', 'necklace'), ('product_id', 'GHt6789'), ('amount', 4500), ('type', ['Gold', 'silver'])])\n"
     ]
    }
   ],
   "source": [
    "item = dict.items()\n",
    "\n",
    "print(item)"
   ]
  },
  {
   "cell_type": "markdown",
   "id": "e00e8df3",
   "metadata": {},
   "source": [
    "## Changing values"
   ]
  },
  {
   "cell_type": "code",
   "execution_count": 36,
   "id": "4a66d9db",
   "metadata": {},
   "outputs": [
    {
     "name": "stdout",
     "output_type": "stream",
     "text": [
      "100\n"
     ]
    }
   ],
   "source": [
    "dict = {\n",
    "            \"fruit_name\" : \"watermelon\",\n",
    "            \"season\" : \"summer\",\n",
    "            \"price\" : 80\n",
    "       }\n",
    "\n",
    "dict[\"price\"] = 100\n",
    "\n",
    "print(dict[\"price\"])"
   ]
  },
  {
   "cell_type": "markdown",
   "id": "d5a37eaa",
   "metadata": {},
   "source": [
    "## update() method"
   ]
  },
  {
   "cell_type": "code",
   "execution_count": 39,
   "id": "14fecbf0",
   "metadata": {},
   "outputs": [
    {
     "name": "stdout",
     "output_type": "stream",
     "text": [
      "sultan_shop\n"
     ]
    }
   ],
   "source": [
    "dict = {\n",
    "            \"food_name\" : \"briyani\",\n",
    "            \"shop_name\" : \"12'o clk briyani\",\n",
    "            \"price\" : 200\n",
    "       }\n",
    "dict.update({\"shop_name\" : \"sultan_shop\"})\n",
    "\n",
    "print(dict[\"shop_name\"])"
   ]
  },
  {
   "cell_type": "markdown",
   "id": "4c9f63c3",
   "metadata": {},
   "source": [
    "## pop() method"
   ]
  },
  {
   "cell_type": "code",
   "execution_count": 40,
   "id": "f663e107",
   "metadata": {},
   "outputs": [
    {
     "name": "stdout",
     "output_type": "stream",
     "text": [
      "{'tourist_place': 'ooty', 'spot': 'boat house', 'entry-fees': 500}\n"
     ]
    }
   ],
   "source": [
    "dict = {\n",
    "            \"tourist_place\" : \"ooty\",\n",
    "            \"spot\" : \"boat house\",\n",
    "            \"entry-fees\" : 500,\n",
    "            \"members\" : 4\n",
    "       }\n",
    "dict.pop(\"members\")\n",
    "\n",
    "print(dict)"
   ]
  },
  {
   "cell_type": "markdown",
   "id": "e9f738e1",
   "metadata": {},
   "source": [
    "## Nested Dictionary"
   ]
  },
  {
   "cell_type": "code",
   "execution_count": 41,
   "id": "69f87615",
   "metadata": {},
   "outputs": [
    {
     "name": "stdout",
     "output_type": "stream",
     "text": [
      "{'employee1': {'name': 'karthi', 'age': 38}, 'employee2': {'name': 'praveen', 'age': 24}, 'employee3': {'name': 'aravind', 'age': 27}}\n"
     ]
    }
   ],
   "source": [
    "company = {\n",
    "            \"employee1\" : \n",
    "                        {\n",
    "                            \"name\" : \"karthi\",\n",
    "                            \"age\" : 38\n",
    "                        },\n",
    "            \"employee2\" :\n",
    "                        {\n",
    "                            \"name\" : \"praveen\",\n",
    "                            \"age\" : 24\n",
    "                        },\n",
    "            \"employee3\" : \n",
    "                        {\n",
    "                            \"name\" : \"aravind\",\n",
    "                            \"age\" : 27\n",
    "                        }\n",
    "}\n",
    "\n",
    "print(company)"
   ]
  },
  {
   "cell_type": "code",
   "execution_count": null,
   "id": "51b3d9e9",
   "metadata": {},
   "outputs": [],
   "source": []
  },
  {
   "cell_type": "code",
   "execution_count": null,
   "id": "2d6dc4c4",
   "metadata": {},
   "outputs": [],
   "source": []
  }
 ],
 "metadata": {
  "kernelspec": {
   "display_name": "Python 3 (ipykernel)",
   "language": "python",
   "name": "python3"
  },
  "language_info": {
   "codemirror_mode": {
    "name": "ipython",
    "version": 3
   },
   "file_extension": ".py",
   "mimetype": "text/x-python",
   "name": "python",
   "nbconvert_exporter": "python",
   "pygments_lexer": "ipython3",
   "version": "3.9.13"
  }
 },
 "nbformat": 4,
 "nbformat_minor": 5
}
