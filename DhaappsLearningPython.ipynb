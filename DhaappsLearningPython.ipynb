{
 "cells": [
  {
   "cell_type": "markdown",
   "id": "0616fc0d",
   "metadata": {},
   "source": [
    "# Introduction to python"
   ]
  },
  {
   "cell_type": "markdown",
   "id": "bdcdb41e",
   "metadata": {},
   "source": [
    "1. Python is  a general purpose programming Language\n",
    "   \n",
    "    let's know about general purpose programming language \n",
    "    \n",
    "    As python is used for many different application development.So it is used to build any kind of application.That is the reason why python is trending now.\n",
    "\n",
    "2. Python was developed by Guido Van Rossum in 1989 & made available to public from 1991\n",
    "\n"
   ]
  },
  {
   "cell_type": "markdown",
   "id": "18e4dabf",
   "metadata": {},
   "source": [
    "# Features of Python"
   ]
  },
  {
   "cell_type": "markdown",
   "id": "71187ab2",
   "metadata": {},
   "source": [
    "### Simple and Easy "
   ]
  },
  {
   "cell_type": "markdown",
   "id": "f0859af8",
   "metadata": {},
   "source": [
    "For writing and reading of code is very Easy compared to C & Java "
   ]
  },
  {
   "cell_type": "markdown",
   "id": "b0e812cb",
   "metadata": {},
   "source": [
    "### Open source"
   ]
  },
  {
   "cell_type": "markdown",
   "id": "bd198af1",
   "metadata": {},
   "source": [
    "Python is open source programming Language\n",
    "\n",
    "open source means anyone can download python & anyone can develop application using python at free cost."
   ]
  },
  {
   "cell_type": "markdown",
   "id": "6782c778",
   "metadata": {},
   "source": [
    "### Platform Independent"
   ]
  },
  {
   "cell_type": "markdown",
   "id": "201318cd",
   "metadata": {},
   "source": [
    "Python does not depend on platform ...windows os , linux etc "
   ]
  },
  {
   "cell_type": "markdown",
   "id": "2778c08e",
   "metadata": {},
   "source": [
    "### Dynamically Typed "
   ]
  },
  {
   "cell_type": "markdown",
   "id": "a7639a82",
   "metadata": {},
   "source": [
    "Dynamically typed means here we does not need to mention data type.\n",
    "\n",
    "Example : \n",
    "\n",
    "a = 10 \n",
    "\n",
    "type(a)\n",
    "\n",
    "output : <class 'int'>"
   ]
  },
  {
   "cell_type": "markdown",
   "id": "daf3798d",
   "metadata": {},
   "source": [
    "### Both Procedure Oriented and Object Oriented "
   ]
  },
  {
   "cell_type": "markdown",
   "id": "cf90aa45",
   "metadata": {},
   "source": [
    "Python is a programming Language which takes features of Java and C. \n",
    "\n",
    "That is why it allows both procedure oriented."
   ]
  },
  {
   "cell_type": "markdown",
   "id": "61142b19",
   "metadata": {},
   "source": [
    "### Interpreted"
   ]
  },
  {
   "cell_type": "markdown",
   "id": "1a654eb7",
   "metadata": {},
   "source": [
    "programming language follows either compiled or interpreted.\n",
    "\n",
    "In compile , we want to write code then compilen and after we want to run.It is considered whole code.\n",
    "\n",
    "In runtime , whereas in interpreted we want to write to code and then we can directly run.It is considered line by line code.\n"
   ]
  },
  {
   "cell_type": "markdown",
   "id": "e3affec1",
   "metadata": {},
   "source": [
    "### Extensible"
   ]
  },
  {
   "cell_type": "markdown",
   "id": "ea30e707",
   "metadata": {},
   "source": [
    "If we written 100 lines of code in python , then if we want some functionality which is not possible in python then it can extends other programming language into python.\n",
    "\n",
    "python also takes the support from other language."
   ]
  },
  {
   "cell_type": "markdown",
   "id": "d379db52",
   "metadata": {},
   "source": [
    "### Embedded"
   ]
  },
  {
   "cell_type": "markdown",
   "id": "c273f0b3",
   "metadata": {},
   "source": [
    "Python is embedded, It means for other programming languages we can use our python code.\n",
    "\n",
    "Embedded is similar to extensible but here python supports to other languages."
   ]
  },
  {
   "cell_type": "markdown",
   "id": "82d12d93",
   "metadata": {},
   "source": [
    "### Huge library "
   ]
  },
  {
   "cell_type": "code",
   "execution_count": null,
   "id": "504e914f",
   "metadata": {},
   "outputs": [],
   "source": [
    "Huge library is the main secret of python for trending.It consists of different libraries/sets of library tools "
   ]
  }
 ],
 "metadata": {
  "kernelspec": {
   "display_name": "Python 3 (ipykernel)",
   "language": "python",
   "name": "python3"
  },
  "language_info": {
   "codemirror_mode": {
    "name": "ipython",
    "version": 3
   },
   "file_extension": ".py",
   "mimetype": "text/x-python",
   "name": "python",
   "nbconvert_exporter": "python",
   "pygments_lexer": "ipython3",
   "version": "3.9.13"
  }
 },
 "nbformat": 4,
 "nbformat_minor": 5
}
